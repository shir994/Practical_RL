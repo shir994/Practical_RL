{
 "cells": [
  {
   "cell_type": "markdown",
   "metadata": {},
   "source": [
    "# Approximate q-learning\n",
    "\n",
    "In this notebook you will teach a __pytorch__ neural network to do Q-learning."
   ]
  },
  {
   "cell_type": "code",
   "execution_count": 1,
   "metadata": {
    "collapsed": true
   },
   "outputs": [],
   "source": [
    "#XVFB will be launched if you run on a server\n",
    "import os\n",
    "# if type(os.environ.get(\"DISPLAY\")) is not str or len(os.environ.get(\"DISPLAY\"))==0:\n",
    "#     !bash ../xvfb start\n",
    "#     %env DISPLAY=:1"
   ]
  },
  {
   "cell_type": "code",
   "execution_count": 2,
   "metadata": {
    "collapsed": true
   },
   "outputs": [],
   "source": [
    "import gym\n",
    "import numpy as np\n",
    "import pandas as pd\n",
    "import matplotlib.pyplot as plt\n",
    "%matplotlib inline"
   ]
  },
  {
   "cell_type": "code",
   "execution_count": 3,
   "metadata": {
    "collapsed": false,
    "scrolled": false
   },
   "outputs": [
    {
     "name": "stderr",
     "output_type": "stream",
     "text": [
      "[2018-03-12 19:03:40,989] Making new env: CartPole-v0\n"
     ]
    },
    {
     "data": {
      "text/plain": [
       "<matplotlib.image.AxesImage at 0x112a61f28>"
      ]
     },
     "execution_count": 3,
     "metadata": {},
     "output_type": "execute_result"
    },
    {
     "data": {
      "image/png": "[encoded data removed]",
      "text/plain": [
       "<matplotlib.figure.Figure at 0x10fe45a20>"
      ]
     },
     "metadata": {},
     "output_type": "display_data"
    }
   ],
   "source": [
    "env = gym.make(\"CartPole-v0\").env\n",
    "env.reset()\n",
    "n_actions = env.action_space.n\n",
    "state_dim = env.observation_space.shape\n",
    "\n",
    "plt.imshow(env.render(\"rgb_array\"))\n",
    "env.close()"
   ]
  },
  {
   "cell_type": "markdown",
   "metadata": {},
   "source": [
    "# Approximate Q-learning: building the network\n",
    "\n",
    "To train a neural network policy one must have a neural network policy. Let's build it.\n",
    "\n",
    "\n",
    "Since we're working with a pre-extracted features (cart positions, angles and velocities), we don't need a complicated network yet. In fact, let's build something like this for starters:\n",
    "\n",
    "![img](https://s14.postimg.org/uzay2q5rl/qlearning_scheme.png)\n",
    "\n",
    "For your first run, please only use linear layers (nn.Linear) and activations. Stuff like batch normalization or dropout may ruin everything if used haphazardly. \n",
    "\n",
    "Also please avoid using nonlinearities like sigmoid & tanh: agent's observations are not normalized so sigmoids may become saturated from init.\n",
    "\n",
    "Ideally you should start small with maybe 1-2 hidden layers with < 200 neurons and then increase network size if agent doesn't beat the target score."
   ]
  },
  {
   "cell_type": "code",
   "execution_count": 4,
   "metadata": {
    "collapsed": true
   },
   "outputs": [],
   "source": [
    "import torch, torch.nn as nn\n",
    "import torch.nn.functional as F\n",
    "from torch.autograd import Variable"
   ]
  },
  {
   "cell_type": "code",
   "execution_count": null,
   "metadata": {
    "collapsed": true
   },
   "outputs": [],
   "source": []
  },
  {
   "cell_type": "code",
   "execution_count": 5,
   "metadata": {
    "collapsed": true
   },
   "outputs": [],
   "source": [
    "network = nn.Sequential()\n",
    "\n",
    "network.add_module('layer1', nn.Linear(state_dim[0], 128))\n",
    "network.add_module(\"relu_1\", nn.ReLU())\n",
    "network.add_module(\"output\", nn.Linear(128, n_actions))\n",
    "    \n",
    "# hint: use state_dim[0] as input size    "
   ]
  },
  {
   "cell_type": "code",
   "execution_count": 11,
   "metadata": {
    "collapsed": false
   },
   "outputs": [
    {
     "data": {
      "text/plain": [
       "Variable containing:\n",
       "-0.1289 -0.0451\n",
       "[torch.FloatTensor of size 1x2]"
      ]
     },
     "execution_count": 11,
     "metadata": {},
     "output_type": "execute_result"
    }
   ],
   "source": [
    "network(Variable(torch.FloatTensor([env.reset()])))"
   ]
  },
  {
   "cell_type": "code",
   "execution_count": 12,
   "metadata": {
    "collapsed": true
   },
   "outputs": [],
   "source": [
    "def get_action(state, epsilon=0):\n",
    "    \"\"\"\n",
    "    sample actions with epsilon-greedy policy\n",
    "    recap: with p = epsilon pick random action, else pick action with highest Q(s,a)\n",
    "    \"\"\"\n",
    "    state = Variable(torch.FloatTensor(state[None]))\n",
    "    q_values = network(state).data.numpy()\n",
    "    \n",
    "    best_action = None\n",
    "    ###YOUR CODE\n",
    "    if np.random.uniform() < epsilon:\n",
    "        best_action = np.random.choice(n_actions)\n",
    "    else:\n",
    "        best_action = np.argmax(q_values[0])\n",
    "    \n",
    "    return int(best_action)\n"
   ]
  },
  {
   "cell_type": "code",
   "execution_count": 13,
   "metadata": {
    "collapsed": false
   },
   "outputs": [
    {
     "name": "stdout",
     "output_type": "stream",
     "text": [
      "e=0.0 tests passed\n",
      "e=0.1 tests passed\n",
      "e=0.5 tests passed\n",
      "e=1.0 tests passed\n"
     ]
    }
   ],
   "source": [
    "s = env.reset()\n",
    "assert tuple(network(Variable(torch.FloatTensor([s]*3))).size()) == (3, n_actions), \"please make sure your model maps state s -> [Q(s,a0), ..., Q(s, a_last)]\"\n",
    "assert isinstance(list(network.modules())[-1], nn.Linear), \"please make sure you predict q-values without nonlinearity (ignore if you know what you're doing)\"\n",
    "assert isinstance(get_action(s), int), \"get_action(s) must return int, not %s. try int(action)\" % (type(get_action(s)))\n",
    "\n",
    "# test epsilon-greedy exploration\n",
    "for eps in [0., 0.1, 0.5, 1.0]:\n",
    "    state_frequencies = np.bincount([get_action(s, epsilon=eps) for i in range(10000)], minlength=n_actions)\n",
    "    best_action = state_frequencies.argmax()\n",
    "    assert abs(state_frequencies[best_action] - 10000 * (1 - eps + eps / n_actions)) < 200\n",
    "    for other_action in range(n_actions):\n",
    "        if other_action != best_action:\n",
    "            assert abs(state_frequencies[other_action] - 10000 * (eps / n_actions)) < 200\n",
    "    print('e=%.1f tests passed'%eps)"
   ]
  },
  {
   "cell_type": "markdown",
   "metadata": {},
   "source": [
    "### Q-learning via gradient descent\n",
    "\n",
    "We shall now train our agent's Q-function by minimizing the TD loss:\n",
    "$$ L = { 1 \\over N} \\sum_i (Q_{\\theta}(s,a) - [r(s,a) + \\gamma \\cdot max_{a'} Q_{-}(s', a')]) ^2 $$\n",
    "\n",
    "\n",
    "Where\n",
    "* $s, a, r, s'$ are current state, action, reward and next state respectively\n",
    "* $\\gamma$ is a discount factor defined two cells above.\n",
    "\n",
    "The tricky part is with  $Q_{-}(s',a')$. From an engineering standpoint, it's the same as $Q_{\\theta}$ - the output of your neural network policy. However, when doing gradient descent, __we won't propagate gradients through it__ to make training more stable (see lectures).\n",
    "\n",
    "To do so, we shall use `x.detach()` function which basically says \"consider this thing constant when doingbackprop\"."
   ]
  },
  {
   "cell_type": "code",
   "execution_count": 18,
   "metadata": {
    "collapsed": true
   },
   "outputs": [],
   "source": [
    "def to_one_hot(y, n_dims=None):\n",
    "    \"\"\" helper: take an integer vector (tensor of variable) and convert it to 1-hot matrix. \"\"\"\n",
    "    y_tensor = y.data if isinstance(y, Variable) else y\n",
    "    y_tensor = y_tensor.type(torch.LongTensor).view(-1, 1)\n",
    "    n_dims = n_dims if n_dims is not None else int(torch.max(y_tensor)) + 1\n",
    "    y_one_hot = torch.zeros(y_tensor.size()[0], n_dims).scatter_(1, y_tensor, 1)\n",
    "    return Variable(y_one_hot) if isinstance(y, Variable) else y_one_hot\n",
    "\n",
    "def where(cond, x_1, x_2):\n",
    "    \"\"\" helper: like np.where but in pytorch. \"\"\"\n",
    "    return (cond * x_1) + ((1-cond) * x_2)"
   ]
  },
  {
   "cell_type": "code",
   "execution_count": 21,
   "metadata": {
    "collapsed": true
   },
   "outputs": [],
   "source": [
    "def compute_td_loss(states, actions, rewards, next_states, is_done, gamma = 0.99, check_shapes = False):\n",
    "    \"\"\" Compute td loss using torch operations only. Use the formula above. \"\"\"\n",
    "    states = Variable(torch.FloatTensor(states))    # shape: [batch_size, state_size]\n",
    "    actions = Variable(torch.IntTensor(actions))    # shape: [batch_size]\n",
    "    rewards = Variable(torch.FloatTensor(rewards))  # shape: [batch_size]\n",
    "    next_states = Variable(torch.FloatTensor(next_states)) # shape: [batch_size, state_size]\n",
    "    is_done = Variable(torch.FloatTensor(is_done))  # shape: [batch_size]\n",
    "    \n",
    "    #get q-values for all actions in current states\n",
    "    predicted_qvalues = network(states)\n",
    "\n",
    "    #select q-values for chosen actions\n",
    "    predicted_qvalues_for_actions = torch.sum(predicted_qvalues * to_one_hot(actions, n_actions), dim=1)\n",
    "    \n",
    "    # compute q-values for all actions in next states\n",
    "    predicted_next_qvalues = network(next_states)\n",
    "\n",
    "    # compute V*(next_states) using predicted next q-values\n",
    "    next_state_values = torch.max(predicted_next_qvalues, dim=1)[0]\n",
    "    assert isinstance(next_state_values.data, torch.FloatTensor)\n",
    "\n",
    "    # compute \"target q-values\" for loss - it's what's inside square parentheses in the above formula.\n",
    "    target_qvalues_for_actions = rewards + gamma * next_state_values\n",
    "\n",
    "    # at the last state we shall use simplified formula: Q(s,a) = r(s,a) since s' doesn't exist\n",
    "    target_qvalues_for_actions = where(is_done, rewards, target_qvalues_for_actions)\n",
    "    \n",
    "    #mean squared error loss to minimize\n",
    "    loss = torch.mean((predicted_qvalues_for_actions - target_qvalues_for_actions.detach()) ** 2 )\n",
    "    \n",
    "    if check_shapes:\n",
    "        assert predicted_next_qvalues.data.dim() == 2, \"make sure you predicted q-values for all actions in next state\"\n",
    "        assert next_state_values.data.dim() == 1, \"make sure you computed V(s') as maximum over just the actions axis and not all axes\"\n",
    "        assert target_qvalues_for_actions.data.dim() == 1, \"there's something wrong with target q-values, they must be a vector\"\n",
    "    \n",
    "    return loss\n",
    "\n",
    "    "
   ]
  },
  {
   "cell_type": "code",
   "execution_count": 22,
   "metadata": {
    "collapsed": false
   },
   "outputs": [],
   "source": [
    "# sanity checks\n",
    "s = env.reset()\n",
    "a = env.action_space.sample()\n",
    "next_s, r, done, _ = env.step(a)\n",
    "loss = compute_td_loss([s],[a],[r],[next_s],[done], check_shapes=True)\n",
    "loss.backward()\n",
    "\n",
    "assert isinstance(loss, Variable) and tuple(loss.data.size()) == (1,), \"you must return scalar loss - mean over batch\"\n",
    "assert np.any(next(network.parameters()).grad.data.numpy() != 0), \"loss must be differentiable w.r.t. network weights\""
   ]
  },
  {
   "cell_type": "markdown",
   "metadata": {},
   "source": [
    "### Playing the game"
   ]
  },
  {
   "cell_type": "code",
   "execution_count": 23,
   "metadata": {
    "collapsed": true
   },
   "outputs": [],
   "source": [
    "opt = torch.optim.Adam(network.parameters(), lr=1e-4)\n",
    "epsilon = 0.5"
   ]
  },
  {
   "cell_type": "code",
   "execution_count": 24,
   "metadata": {
    "collapsed": true
   },
   "outputs": [],
   "source": [
    "def generate_session(t_max=1000, epsilon=0, train=False):\n",
    "    \"\"\"play env with approximate q-learning agent and train it at the same time\"\"\"\n",
    "    total_reward = 0\n",
    "    s = env.reset()\n",
    "    \n",
    "    for t in range(t_max):\n",
    "        a = get_action(s, epsilon=epsilon)       \n",
    "        next_s, r, done, _ = env.step(a)\n",
    "        \n",
    "        if train:\n",
    "            opt.zero_grad()\n",
    "            compute_td_loss([s], [a], [r], [next_s], [done]).backward()\n",
    "            opt.step()\n",
    "            \n",
    "        total_reward += r\n",
    "        s = next_s\n",
    "        if done: break\n",
    "            \n",
    "    return total_reward"
   ]
  },
  {
   "cell_type": "code",
   "execution_count": 25,
   "metadata": {
    "collapsed": false,
    "scrolled": true
   },
   "outputs": [
    {
     "name": "stdout",
     "output_type": "stream",
     "text": [
      "epoch #0\tmean reward = 14.200\tepsilon = 0.500\n",
      "epoch #1\tmean reward = 14.590\tepsilon = 0.495\n",
      "epoch #2\tmean reward = 13.540\tepsilon = 0.490\n",
      "epoch #3\tmean reward = 14.290\tepsilon = 0.485\n",
      "epoch #4\tmean reward = 13.640\tepsilon = 0.480\n",
      "epoch #5\tmean reward = 13.660\tepsilon = 0.475\n",
      "epoch #6\tmean reward = 13.390\tepsilon = 0.471\n",
      "epoch #7\tmean reward = 20.720\tepsilon = 0.466\n",
      "epoch #8\tmean reward = 13.110\tepsilon = 0.461\n",
      "epoch #9\tmean reward = 12.370\tepsilon = 0.457\n",
      "epoch #10\tmean reward = 13.500\tepsilon = 0.452\n",
      "epoch #11\tmean reward = 12.990\tepsilon = 0.448\n",
      "epoch #12\tmean reward = 12.570\tepsilon = 0.443\n",
      "epoch #13\tmean reward = 12.720\tepsilon = 0.439\n",
      "epoch #14\tmean reward = 12.940\tepsilon = 0.434\n",
      "epoch #15\tmean reward = 13.910\tepsilon = 0.430\n",
      "epoch #16\tmean reward = 13.230\tepsilon = 0.426\n",
      "epoch #17\tmean reward = 12.730\tepsilon = 0.421\n",
      "epoch #18\tmean reward = 13.250\tepsilon = 0.417\n",
      "epoch #19\tmean reward = 12.450\tepsilon = 0.413\n",
      "epoch #20\tmean reward = 12.440\tepsilon = 0.409\n",
      "epoch #21\tmean reward = 12.620\tepsilon = 0.405\n",
      "epoch #22\tmean reward = 15.780\tepsilon = 0.401\n",
      "epoch #23\tmean reward = 12.750\tepsilon = 0.397\n",
      "epoch #24\tmean reward = 12.660\tepsilon = 0.393\n",
      "epoch #25\tmean reward = 16.520\tepsilon = 0.389\n",
      "epoch #26\tmean reward = 11.880\tepsilon = 0.385\n",
      "epoch #27\tmean reward = 17.190\tepsilon = 0.381\n",
      "epoch #28\tmean reward = 13.100\tepsilon = 0.377\n",
      "epoch #29\tmean reward = 22.040\tepsilon = 0.374\n",
      "epoch #30\tmean reward = 22.220\tepsilon = 0.370\n",
      "epoch #31\tmean reward = 19.360\tepsilon = 0.366\n",
      "epoch #32\tmean reward = 19.750\tepsilon = 0.362\n",
      "epoch #33\tmean reward = 20.850\tepsilon = 0.359\n",
      "epoch #34\tmean reward = 26.510\tepsilon = 0.355\n",
      "epoch #35\tmean reward = 23.590\tepsilon = 0.352\n",
      "epoch #36\tmean reward = 23.710\tepsilon = 0.348\n",
      "epoch #37\tmean reward = 24.600\tepsilon = 0.345\n",
      "epoch #38\tmean reward = 24.460\tepsilon = 0.341\n",
      "epoch #39\tmean reward = 33.270\tepsilon = 0.338\n",
      "epoch #40\tmean reward = 33.040\tepsilon = 0.334\n",
      "epoch #41\tmean reward = 31.980\tepsilon = 0.331\n",
      "epoch #42\tmean reward = 29.150\tepsilon = 0.328\n",
      "epoch #43\tmean reward = 36.720\tepsilon = 0.325\n",
      "epoch #44\tmean reward = 37.520\tepsilon = 0.321\n",
      "epoch #45\tmean reward = 35.570\tepsilon = 0.318\n",
      "epoch #46\tmean reward = 36.870\tepsilon = 0.315\n",
      "epoch #47\tmean reward = 39.060\tepsilon = 0.312\n",
      "epoch #48\tmean reward = 38.560\tepsilon = 0.309\n",
      "epoch #49\tmean reward = 55.080\tepsilon = 0.306\n",
      "epoch #50\tmean reward = 65.270\tepsilon = 0.303\n",
      "epoch #51\tmean reward = 58.170\tepsilon = 0.299\n",
      "epoch #52\tmean reward = 63.180\tepsilon = 0.296\n",
      "epoch #53\tmean reward = 52.480\tepsilon = 0.294\n",
      "epoch #54\tmean reward = 66.090\tepsilon = 0.291\n",
      "epoch #55\tmean reward = 57.180\tepsilon = 0.288\n",
      "epoch #56\tmean reward = 76.230\tepsilon = 0.285\n",
      "epoch #57\tmean reward = 73.680\tepsilon = 0.282\n",
      "epoch #58\tmean reward = 80.970\tepsilon = 0.279\n",
      "epoch #59\tmean reward = 99.970\tepsilon = 0.276\n",
      "epoch #60\tmean reward = 123.520\tepsilon = 0.274\n",
      "epoch #61\tmean reward = 135.400\tepsilon = 0.271\n",
      "epoch #62\tmean reward = 134.680\tepsilon = 0.268\n",
      "epoch #63\tmean reward = 126.800\tepsilon = 0.265\n",
      "epoch #64\tmean reward = 155.410\tepsilon = 0.263\n",
      "epoch #65\tmean reward = 185.220\tepsilon = 0.260\n",
      "epoch #66\tmean reward = 128.140\tepsilon = 0.258\n",
      "epoch #67\tmean reward = 23.460\tepsilon = 0.255\n",
      "epoch #68\tmean reward = 13.050\tepsilon = 0.252\n",
      "epoch #69\tmean reward = 14.710\tepsilon = 0.250\n",
      "epoch #70\tmean reward = 37.420\tepsilon = 0.247\n",
      "epoch #71\tmean reward = 33.720\tepsilon = 0.245\n",
      "epoch #72\tmean reward = 39.440\tepsilon = 0.242\n",
      "epoch #73\tmean reward = 148.570\tepsilon = 0.240\n",
      "epoch #74\tmean reward = 181.580\tepsilon = 0.238\n",
      "epoch #75\tmean reward = 84.110\tepsilon = 0.235\n",
      "epoch #76\tmean reward = 208.420\tepsilon = 0.233\n",
      "epoch #77\tmean reward = 17.830\tepsilon = 0.231\n",
      "epoch #78\tmean reward = 24.160\tepsilon = 0.228\n",
      "epoch #79\tmean reward = 11.050\tepsilon = 0.226\n",
      "epoch #80\tmean reward = 41.240\tepsilon = 0.224\n",
      "epoch #81\tmean reward = 13.650\tepsilon = 0.222\n",
      "epoch #82\tmean reward = 120.500\tepsilon = 0.219\n",
      "epoch #83\tmean reward = 186.190\tepsilon = 0.217\n",
      "epoch #84\tmean reward = 160.200\tepsilon = 0.215\n",
      "epoch #85\tmean reward = 205.130\tepsilon = 0.213\n",
      "epoch #86\tmean reward = 93.400\tepsilon = 0.211\n",
      "epoch #87\tmean reward = 179.880\tepsilon = 0.209\n",
      "epoch #88\tmean reward = 228.770\tepsilon = 0.206\n",
      "epoch #89\tmean reward = 50.330\tepsilon = 0.204\n",
      "epoch #90\tmean reward = 17.280\tepsilon = 0.202\n",
      "epoch #91\tmean reward = 62.610\tepsilon = 0.200\n",
      "epoch #92\tmean reward = 123.910\tepsilon = 0.198\n",
      "epoch #93\tmean reward = 18.740\tepsilon = 0.196\n",
      "epoch #94\tmean reward = 180.280\tepsilon = 0.194\n",
      "epoch #95\tmean reward = 13.750\tepsilon = 0.192\n",
      "epoch #96\tmean reward = 218.940\tepsilon = 0.191\n",
      "epoch #97\tmean reward = 69.490\tepsilon = 0.189\n",
      "epoch #98\tmean reward = 246.100\tepsilon = 0.187\n",
      "epoch #99\tmean reward = 145.080\tepsilon = 0.185\n",
      "epoch #100\tmean reward = 184.550\tepsilon = 0.183\n",
      "epoch #101\tmean reward = 300.170\tepsilon = 0.181\n",
      "You Win!\n"
     ]
    }
   ],
   "source": [
    "for i in range(1000):\n",
    "    session_rewards = [generate_session(epsilon=epsilon, train=True) for _ in range(100)]\n",
    "    print(\"epoch #{}\\tmean reward = {:.3f}\\tepsilon = {:.3f}\".format(i, np.mean(session_rewards), epsilon))\n",
    "    \n",
    "    epsilon *= 0.99\n",
    "    assert epsilon >= 1e-4, \"Make sure epsilon is always nonzero during training\"\n",
    "    \n",
    "    if np.mean(session_rewards) > 300:\n",
    "        print (\"You Win!\")\n",
    "        break\n"
   ]
  },
  {
   "cell_type": "markdown",
   "metadata": {},
   "source": [
    "### How to interpret results\n",
    "\n",
    "\n",
    "Welcome to the f.. world of deep f...n reinforcement learning. Don't expect agent's reward to smoothly go up. Hope for it to go increase eventually. If it deems you worthy.\n",
    "\n",
    "Seriously though,\n",
    "* __ mean reward__ is the average reward per game. For a correct implementation it may stay low for some 10 epochs, then start growing while oscilating insanely and converges by ~50-100 steps depending on the network architecture. \n",
    "* If it never reaches target score by the end of for loop, try increasing the number of hidden neurons or look at the epsilon.\n",
    "* __ epsilon__ - agent's willingness to explore. If you see that agent's already at < 0.01 epsilon before it's is at least 200, just reset it back to 0.1 - 0.5."
   ]
  },
  {
   "cell_type": "markdown",
   "metadata": {},
   "source": [
    "### Record videos\n",
    "\n",
    "As usual, we now use `gym.wrappers.Monitor` to record a video of our agent playing the game. Unlike our previous attempts with state binarization, this time we expect our agent to act ~~(or fail)~~ more smoothly since there's no more binarization error at play.\n",
    "\n",
    "As you already did with tabular q-learning, we set epsilon=0 for final evaluation to prevent agent from exploring himself to death."
   ]
  },
  {
   "cell_type": "code",
   "execution_count": 26,
   "metadata": {
    "collapsed": false,
    "scrolled": true
   },
   "outputs": [
    {
     "name": "stderr",
     "output_type": "stream",
     "text": [
      "[2018-03-12 20:03:02,702] Making new env: CartPole-v0\n",
      "[2018-03-12 20:03:02,753] Creating monitor directory videos\n",
      "[2018-03-12 20:03:02,764] Starting new video recorder writing to /Users/Shir/SHAD/Practical_RL/week4_approx_rl/videos/openaigym.video.0.40591.video000000.mp4\n",
      "[2018-03-12 20:03:06,843] Starting new video recorder writing to /Users/Shir/SHAD/Practical_RL/week4_approx_rl/videos/openaigym.video.0.40591.video000001.mp4\n",
      "[2018-03-12 20:03:10,161] Starting new video recorder writing to /Users/Shir/SHAD/Practical_RL/week4_approx_rl/videos/openaigym.video.0.40591.video000008.mp4\n",
      "[2018-03-12 20:03:15,775] Starting new video recorder writing to /Users/Shir/SHAD/Practical_RL/week4_approx_rl/videos/openaigym.video.0.40591.video000027.mp4\n",
      "[2018-03-12 20:03:20,094] Starting new video recorder writing to /Users/Shir/SHAD/Practical_RL/week4_approx_rl/videos/openaigym.video.0.40591.video000064.mp4\n",
      "[2018-03-12 20:03:24,152] Finished writing results. You can upload them to the scoreboard via gym.upload('/Users/Shir/SHAD/Practical_RL/week4_approx_rl/videos')\n"
     ]
    }
   ],
   "source": [
    "#record sessions\n",
    "import gym.wrappers\n",
    "env = gym.wrappers.Monitor(gym.make(\"CartPole-v0\"),directory=\"videos\",force=True)\n",
    "sessions = [generate_session(epsilon=0, train=False) for _ in range(100)]\n",
    "env.close()\n"
   ]
  },
  {
   "cell_type": "code",
   "execution_count": null,
   "metadata": {
    "collapsed": true
   },
   "outputs": [],
   "source": [
    "# #show video\n",
    "# from IPython.display import HTML\n",
    "# import os\n",
    "\n",
    "# video_names = list(filter(lambda s:s.endswith(\".mp4\"),os.listdir(\"./videos/\")))\n",
    "\n",
    "# HTML(\"\"\"\n",
    "# <video width=\"640\" height=\"480\" controls>\n",
    "#   <source src=\"{}\" type=\"video/mp4\">\n",
    "# </video>\n",
    "# \"\"\".format(\"./videos/\"+video_names[-1])) #this may or may not be _last_ video. Try other indices"
   ]
  },
  {
   "cell_type": "code",
   "execution_count": null,
   "metadata": {
    "collapsed": true
   },
   "outputs": [],
   "source": []
  }
 ],
 "metadata": {
  "anaconda-cloud": {},
  "kernelspec": {
   "display_name": "Python 3",
   "language": "python",
   "name": "python3"
  },
  "language_info": {
   "codemirror_mode": {
    "name": "ipython",
    "version": 3
   },
   "file_extension": ".py",
   "mimetype": "text/x-python",
   "name": "python",
   "nbconvert_exporter": "python",
   "pygments_lexer": "ipython3",
   "version": "3.5.2"
  }
 },
 "nbformat": 4,
 "nbformat_minor": 1
}
